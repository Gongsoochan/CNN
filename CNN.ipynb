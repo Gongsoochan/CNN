{
  "nbformat": 4,
  "nbformat_minor": 0,
  "metadata": {
    "colab": {
      "provenance": []
    },
    "kernelspec": {
      "name": "python3",
      "display_name": "Python 3"
    },
    "language_info": {
      "name": "python"
    }
  },
  "cells": [
    {
      "cell_type": "code",
      "execution_count": 14,
      "metadata": {
        "id": "KcihjcsCNygN"
      },
      "outputs": [],
      "source": [
        "from keras.datasets import mnist\n",
        "(_,_),(X1,y1)=mnist.load_data()"
      ]
    },
    {
      "cell_type": "code",
      "source": [
        "import matplotlib.pyplot as plt\n",
        "plt.imshow(X1[0])"
      ],
      "metadata": {
        "colab": {
          "base_uri": "https://localhost:8080/",
          "height": 448
        },
        "id": "YhaQxS4bOFZL",
        "outputId": "4252f176-a1e3-43c2-9be2-d234b97879d0"
      },
      "execution_count": 2,
      "outputs": [
        {
          "output_type": "execute_result",
          "data": {
            "text/plain": [
              "<matplotlib.image.AxesImage at 0x78d334efbee0>"
            ]
          },
          "metadata": {},
          "execution_count": 2
        },
        {
          "output_type": "display_data",
          "data": {
            "text/plain": [
              "<Figure size 640x480 with 1 Axes>"
            ],
            "image/png": "[encoded data removed]"
          },
          "metadata": {}
        }
      ]
    },
    {
      "cell_type": "code",
      "source": [
        "from sklearn.model_selection import train_test_split\n",
        "x_data,x_test,y_data,y_test=train_test_split(X1,y1,test_size=0.3,stratify=y1)\n",
        "train_x,val_x,train_y,val_y=train_test_split(x_data,y_data,test_size=0.2,stratify=y_data)"
      ],
      "metadata": {
        "id": "H95VXDjOSCXn"
      },
      "execution_count": 3,
      "outputs": []
    },
    {
      "cell_type": "code",
      "source": [
        "x_data.shape,y_data.shape,train_x.shape,train_y.shape,val_x.shape,val_y.shape"
      ],
      "metadata": {
        "colab": {
          "base_uri": "https://localhost:8080/"
        },
        "id": "9okgnUJcT9n1",
        "outputId": "76d4d3a0-e734-4bc3-b2e4-499c1d6e6203"
      },
      "execution_count": 4,
      "outputs": [
        {
          "output_type": "execute_result",
          "data": {
            "text/plain": [
              "((7000, 28, 28), (7000,), (5600, 28, 28), (5600,), (1400, 28, 28), (1400,))"
            ]
          },
          "metadata": {},
          "execution_count": 4
        }
      ]
    },
    {
      "cell_type": "code",
      "source": [
        "rs_x_data=x_data.reshape(-1,28,28,1)\n",
        "rs_train_x=train_x.reshape(-1,28,28,1)\n",
        "rs_val_x=val_x.reshape(-1,28,28,1)"
      ],
      "metadata": {
        "id": "8LKb_XIQPutJ"
      },
      "execution_count": 5,
      "outputs": []
    },
    {
      "cell_type": "code",
      "source": [
        "rs_x_data.shape,rs_train_x.shape,rs_val_x.shape"
      ],
      "metadata": {
        "colab": {
          "base_uri": "https://localhost:8080/"
        },
        "id": "4D8_miacWbRA",
        "outputId": "bc798b4c-0425-4a78-893c-0ebfcab07d7c"
      },
      "execution_count": 6,
      "outputs": [
        {
          "output_type": "execute_result",
          "data": {
            "text/plain": [
              "((7000, 28, 28, 1), (5600, 28, 28, 1), (1400, 28, 28, 1))"
            ]
          },
          "metadata": {},
          "execution_count": 6
        }
      ]
    },
    {
      "cell_type": "code",
      "source": [
        "from keras.utils import to_categorical\n",
        "ct_y_data=to_categorical(y_data)\n",
        "ct_train_y=to_categorical(train_y)\n",
        "ct_val_y=to_categorical(val_y)"
      ],
      "metadata": {
        "id": "KtbTkdj6WZ6s"
      },
      "execution_count": 7,
      "outputs": []
    },
    {
      "cell_type": "code",
      "source": [
        "ct_y_data.shape,ct_train_y.shape,ct_val_y.shape"
      ],
      "metadata": {
        "colab": {
          "base_uri": "https://localhost:8080/"
        },
        "id": "5Ty-ZuCobll8",
        "outputId": "a891230a-86de-4197-ddc0-321f8f03c69c"
      },
      "execution_count": 8,
      "outputs": [
        {
          "output_type": "execute_result",
          "data": {
            "text/plain": [
              "((7000, 10), (5600, 10), (1400, 10))"
            ]
          },
          "metadata": {},
          "execution_count": 8
        }
      ]
    },
    {
      "cell_type": "code",
      "source": [
        "from keras.models import Sequential\n",
        "from keras.layers import Conv2D,MaxPooling2D,Flatten,Dense\n",
        "m=Sequential()\n",
        "m.add(Conv2D(10,3,padding='same',activation='relu',input_shape=rs_train_x.shape[1:]))\n",
        "m.add(Conv2D(10,3,padding='same',activation='relu'))\n",
        "m.add(MaxPooling2D(2))\n",
        "m.add(Conv2D(10,3,padding='same',activation='relu'))\n",
        "m.add(MaxPooling2D(2))\n",
        "m.add(Flatten())\n",
        "m.add(Dense(10,activation='softmax'))\n",
        "m.summary()\n",
        "m.compile(optimizer='adam',loss='categorical_crossentropy',metrics='acc')\n",
        "hy=m.fit(rs_train_x,ct_train_y,validation_data=(rs_val_x,ct_val_y),epochs=10)"
      ],
      "metadata": {
        "colab": {
          "base_uri": "https://localhost:8080/"
        },
        "id": "l_P8hyVgbtBY",
        "outputId": "6ced4c22-8b02-4196-e468-3077dbcc3a24"
      },
      "execution_count": 9,
      "outputs": [
        {
          "output_type": "stream",
          "name": "stdout",
          "text": [
            "Model: \"sequential\"\n",
            "_________________________________________________________________\n",
            " Layer (type)                Output Shape              Param #   \n",
            "=================================================================\n",
            " conv2d (Conv2D)             (None, 28, 28, 10)        100       \n",
            "                                                                 \n",
            " conv2d_1 (Conv2D)           (None, 28, 28, 10)        910       \n",
            "                                                                 \n",
            " max_pooling2d (MaxPooling2  (None, 14, 14, 10)        0         \n",
            " D)                                                              \n",
            "                                                                 \n",
            " conv2d_2 (Conv2D)           (None, 14, 14, 10)        910       \n",
            "                                                                 \n",
            " max_pooling2d_1 (MaxPoolin  (None, 7, 7, 10)          0         \n",
            " g2D)                                                            \n",
            "                                                                 \n",
            " flatten (Flatten)           (None, 490)               0         \n",
            "                                                                 \n",
            " dense (Dense)               (None, 10)                4910      \n",
            "                                                                 \n",
            "=================================================================\n",
            "Total params: 6830 (26.68 KB)\n",
            "Trainable params: 6830 (26.68 KB)\n",
            "Non-trainable params: 0 (0.00 Byte)\n",
            "_________________________________________________________________\n",
            "Epoch 1/10\n",
            "175/175 [==============================] - 9s 42ms/step - loss: 2.6638 - acc: 0.5337 - val_loss: 0.6385 - val_acc: 0.8093\n",
            "Epoch 2/10\n",
            "175/175 [==============================] - 6s 34ms/step - loss: 0.3893 - acc: 0.8780 - val_loss: 0.3385 - val_acc: 0.9029\n",
            "Epoch 3/10\n",
            "175/175 [==============================] - 8s 44ms/step - loss: 0.1997 - acc: 0.9362 - val_loss: 0.2660 - val_acc: 0.9214\n",
            "Epoch 4/10\n",
            "175/175 [==============================] - 6s 33ms/step - loss: 0.1200 - acc: 0.9630 - val_loss: 0.2626 - val_acc: 0.9250\n",
            "Epoch 5/10\n",
            "175/175 [==============================] - 8s 43ms/step - loss: 0.0830 - acc: 0.9730 - val_loss: 0.2062 - val_acc: 0.9400\n",
            "Epoch 6/10\n",
            "175/175 [==============================] - 6s 34ms/step - loss: 0.0551 - acc: 0.9825 - val_loss: 0.2248 - val_acc: 0.9443\n",
            "Epoch 7/10\n",
            "175/175 [==============================] - 8s 45ms/step - loss: 0.0407 - acc: 0.9879 - val_loss: 0.2029 - val_acc: 0.9457\n",
            "Epoch 8/10\n",
            "175/175 [==============================] - 6s 33ms/step - loss: 0.0259 - acc: 0.9921 - val_loss: 0.2181 - val_acc: 0.9479\n",
            "Epoch 9/10\n",
            "175/175 [==============================] - 7s 42ms/step - loss: 0.0224 - acc: 0.9921 - val_loss: 0.2146 - val_acc: 0.9507\n",
            "Epoch 10/10\n",
            "175/175 [==============================] - 6s 35ms/step - loss: 0.0151 - acc: 0.9952 - val_loss: 0.1978 - val_acc: 0.9543\n"
          ]
        }
      ]
    },
    {
      "cell_type": "code",
      "source": [
        "import matplotlib.pyplot as plt\n",
        "\n",
        "plt.plot(hy.history['loss'])\n",
        "plt.plot(hy.history['val_loss'])\n",
        "plt.show()\n",
        "plt.plot(hy.history['acc'])\n",
        "plt.plot(hy.history['val_acc'])\n",
        "plt.show()"
      ],
      "metadata": {
        "colab": {
          "base_uri": "https://localhost:8080/",
          "height": 843
        },
        "id": "KHC9NkeFlau0",
        "outputId": "44b4aea1-e934-4f13-b5df-c6c3577ec6e7"
      },
      "execution_count": 10,
      "outputs": [
        {
          "output_type": "display_data",
          "data": {
            "text/plain": [
              "<Figure size 640x480 with 1 Axes>"
            ],
            "image/png": "[encoded data removed]"
          },
          "metadata": {}
        },
        {
          "output_type": "display_data",
          "data": {
            "text/plain": [
              "<Figure size 640x480 with 1 Axes>"
            ],
            "image/png": "[encoded data removed]"
          },
          "metadata": {}
        }
      ]
    },
    {
      "cell_type": "code",
      "source": [
        "import tensorflow as tf\n",
        "from tensorflow import keras\n",
        "# 예측기 생성\n",
        "def predict_digit(image):\n",
        "    # 입력 이미지를 모델에 맞는 형태로 변환\n",
        "    image = image.reshape(1, 28, 28, 1)\n",
        "    # 예측 수행\n",
        "    predictions = m.predict(image)\n",
        "    # 가장 높은 확률을 가지는 클래스를 예측 결과로 반환\n",
        "    return tf.argmax(predictions[0])"
      ],
      "metadata": {
        "id": "RTNQuh2cxy2k"
      },
      "execution_count": 11,
      "outputs": []
    },
    {
      "cell_type": "code",
      "source": [
        "# 테스트 이미지로 예측 수행\n",
        "test_index = 55  # 원하는 테스트 이미지의 인덱스\n",
        "predicted_label = predict_digit(x_test[test_index])\n",
        "print(\"Predicted Label:\", predicted_label.numpy())\n",
        "print(\"True Label:\", y_test[test_index])"
      ],
      "metadata": {
        "colab": {
          "base_uri": "https://localhost:8080/"
        },
        "id": "odFuN2shx03S",
        "outputId": "ee2e89f2-8e9b-4258-8faa-65d97ac9a471"
      },
      "execution_count": 12,
      "outputs": [
        {
          "output_type": "stream",
          "name": "stdout",
          "text": [
            "1/1 [==============================] - 0s 180ms/step\n",
            "Predicted Label: 2\n",
            "True Label: 2\n"
          ]
        }
      ]
    },
    {
      "cell_type": "code",
      "source": [
        "plt.imshow(x_test[55])"
      ],
      "metadata": {
        "colab": {
          "base_uri": "https://localhost:8080/",
          "height": 448
        },
        "id": "KV3_DDzS2GDF",
        "outputId": "4cf944c9-bbb7-48a9-e931-9494b14a5b1e"
      },
      "execution_count": 13,
      "outputs": [
        {
          "output_type": "execute_result",
          "data": {
            "text/plain": [
              "<matplotlib.image.AxesImage at 0x78d31986ee00>"
            ]
          },
          "metadata": {},
          "execution_count": 13
        },
        {
          "output_type": "display_data",
          "data": {
            "text/plain": [
              "<Figure size 640x480 with 1 Axes>"
            ],
            "image/png": "[encoded data removed]"
          },
          "metadata": {}
        }
      ]
    }
  ]
}